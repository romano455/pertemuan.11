{
  "nbformat": 4,
  "nbformat_minor": 0,
  "metadata": {
    "colab": {
      "name": "Klastering dengan AHC-2.ipynb",
      "provenance": []
    },
    "kernelspec": {
      "name": "python3",
      "display_name": "Python 3"
    },
    "language_info": {
      "name": "python"
    }
  },
  "cells": [
    {
      "cell_type": "code",
      "metadata": {
        "id": "EyZ7eQNJdBWG"
      },
      "source": [
        "# import library\n",
        "import matplotlib.pyplot as plt\n",
        "from scipy.cluster.hierarchy import dendrogram, linkage \n",
        "import numpy as np\n",
        "import pandas as pd  "
      ],
      "execution_count": null,
      "outputs": []
    },
    {
      "cell_type": "code",
      "metadata": {
        "id": "0mN1ngDhaEHJ"
      },
      "source": [
        "data = pd.read_excel(\"Data AHC.xlsx\")\n",
        "print (data)"
      ],
      "execution_count": null,
      "outputs": []
    },
    {
      "cell_type": "code",
      "metadata": {
        "id": "1tyIrS-5aX4X"
      },
      "source": [
        "x = np.asarray(data)\n",
        "print(x)"
      ],
      "execution_count": null,
      "outputs": []
    },
    {
      "cell_type": "code",
      "metadata": {
        "id": "NsK5eWAUarXA"
      },
      "source": [
        "# lakuan hierarchical klastering \n",
        "z = linkage(x)"
      ],
      "execution_count": null,
      "outputs": []
    },
    {
      "cell_type": "code",
      "metadata": {
        "id": "SdRdS5NUa38W"
      },
      "source": [
        "#plot dendrogram \n",
        "plt.figure(figsize=(25, 10))\n",
        "plt.title('Dendrogram Hierarchical Klastering')\n",
        "plt.xlabel('data')\n",
        "plt.ylabel('jarak')\n",
        "dendrogram(z)\n",
        "plt.show()"
      ],
      "execution_count": null,
      "outputs": []
    }
  ]
}