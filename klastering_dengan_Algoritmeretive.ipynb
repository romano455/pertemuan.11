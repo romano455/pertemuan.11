{
  "nbformat": 4,
  "nbformat_minor": 0,
  "metadata": {
    "colab": {
      "name": "klastering dengan Algoritmeretive.ipynb",
      "provenance": []
    },
    "kernelspec": {
      "name": "python3",
      "display_name": "Python 3"
    },
    "language_info": {
      "name": "python"
    }
  },
  "cells": [
    {
      "cell_type": "code",
      "metadata": {
        "id": "9Wu580HcWbGn"
      },
      "source": [
        "# import library\n",
        "# muhamad nur rochman\n",
        "# a11.2018.11131\n",
        "# tugas 11\n",
        "from matplotlib import s plt\n",
        "from scipy.cluster.hierarchy import dendrogram, linkage\n",
        "import numpy as np"
      ],
      "execution_count": null,
      "outputs": []
    },
    {
      "cell_type": "code",
      "metadata": {
        "id": "HB43pW3RXYfY"
      },
      "source": [
        "# buat array 2D ke dalam variabel x. data ini  yang akan kita klaster \n",
        "x = np.array([[1,2],[2.5,4.5],[2,2],[4,1.5],[4,2.5]])"
      ],
      "execution_count": null,
      "outputs": []
    },
    {
      "cell_type": "code",
      "metadata": {
        "id": "OUR4YLz2XxUU"
      },
      "source": [
        "print(x)"
      ],
      "execution_count": null,
      "outputs": []
    },
    {
      "cell_type": "code",
      "metadata": {
        "id": "u2YqKVwXYSUF"
      },
      "source": [
        "#lakukan hierachical Klastering\n",
        "z = linkage(x)\n"
      ],
      "execution_count": null,
      "outputs": []
    },
    {
      "cell_type": "code",
      "metadata": {
        "id": "Niz2hix3YgA0"
      },
      "source": [
        "print(z)"
      ],
      "execution_count": null,
      "outputs": []
    },
    {
      "cell_type": "code",
      "metadata": {
        "id": "E6C1S_2wYiK0"
      },
      "source": [
        "#plot dendogram\n",
        "plt.figure(figsize=(25, 10))\n",
        "plt.title('Dendogram Hierarchical Klastering')\n",
        "plt.xlabel('data')\n",
        "plt.ylabel('jarak')\n",
        "dendrogram(z)\n",
        "plt.show()"
      ],
      "execution_count": null,
      "outputs": []
    },
    {
      "cell_type": "code",
      "metadata": {
        "id": "l6MAy-KLZYbp"
      },
      "source": [
        ""
      ],
      "execution_count": null,
      "outputs": []
    }
  ]
}
